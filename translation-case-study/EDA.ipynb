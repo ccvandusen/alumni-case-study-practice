{
 "cells": [
  {
   "cell_type": "code",
   "execution_count": 82,
   "metadata": {
    "collapsed": true
   },
   "outputs": [],
   "source": [
    "import numpy as np\n",
    "import pandas as pd"
   ]
  },
  {
   "cell_type": "code",
   "execution_count": 83,
   "metadata": {
    "collapsed": true
   },
   "outputs": [],
   "source": [
    "full_df = pd.read_csv('data/test_table.csv')\n",
    "user_df = pd.read_csv('data/user_table.csv')"
   ]
  },
  {
   "cell_type": "code",
   "execution_count": 84,
   "metadata": {
    "collapsed": true
   },
   "outputs": [],
   "source": [
    "total_df = pd.merge(full_df, user_df, on='user_id', how='inner')"
   ]
  },
  {
   "cell_type": "code",
   "execution_count": 5,
   "metadata": {},
   "outputs": [
    {
     "name": "stdout",
     "output_type": "stream",
     "text": [
      "Index([u'user_id', u'date', u'source', u'device', u'browser_language',\n",
      "       u'ads_channel', u'browser', u'conversion', u'test'],\n",
      "      dtype='object')\n",
      "Index([u'user_id', u'sex', u'age', u'country'], dtype='object')\n"
     ]
    }
   ],
   "source": [
    "print full_df.columns\n",
    "print user_df.columns"
   ]
  },
  {
   "cell_type": "code",
   "execution_count": 70,
   "metadata": {},
   "outputs": [
    {
     "data": {
      "text/html": [
       "<div>\n",
       "<table border=\"1\" class=\"dataframe\">\n",
       "  <thead>\n",
       "    <tr style=\"text-align: right;\">\n",
       "      <th></th>\n",
       "      <th>user_id</th>\n",
       "      <th>date</th>\n",
       "      <th>source</th>\n",
       "      <th>device</th>\n",
       "      <th>browser_language</th>\n",
       "      <th>ads_channel</th>\n",
       "      <th>browser</th>\n",
       "      <th>conversion</th>\n",
       "      <th>test</th>\n",
       "      <th>sex</th>\n",
       "      <th>age</th>\n",
       "      <th>country</th>\n",
       "    </tr>\n",
       "  </thead>\n",
       "  <tbody>\n",
       "    <tr>\n",
       "      <th>0</th>\n",
       "      <td>315281</td>\n",
       "      <td>2015-12-03</td>\n",
       "      <td>Direct</td>\n",
       "      <td>Web</td>\n",
       "      <td>ES</td>\n",
       "      <td>NaN</td>\n",
       "      <td>IE</td>\n",
       "      <td>1</td>\n",
       "      <td>0</td>\n",
       "      <td>M</td>\n",
       "      <td>32.0</td>\n",
       "      <td>Spain</td>\n",
       "    </tr>\n",
       "    <tr>\n",
       "      <th>1</th>\n",
       "      <td>497851</td>\n",
       "      <td>2015-12-04</td>\n",
       "      <td>Ads</td>\n",
       "      <td>Web</td>\n",
       "      <td>ES</td>\n",
       "      <td>Google</td>\n",
       "      <td>IE</td>\n",
       "      <td>0</td>\n",
       "      <td>1</td>\n",
       "      <td>M</td>\n",
       "      <td>21.0</td>\n",
       "      <td>Mexico</td>\n",
       "    </tr>\n",
       "    <tr>\n",
       "      <th>2</th>\n",
       "      <td>848402</td>\n",
       "      <td>2015-12-04</td>\n",
       "      <td>Ads</td>\n",
       "      <td>Web</td>\n",
       "      <td>ES</td>\n",
       "      <td>Facebook</td>\n",
       "      <td>Chrome</td>\n",
       "      <td>0</td>\n",
       "      <td>0</td>\n",
       "      <td>M</td>\n",
       "      <td>34.0</td>\n",
       "      <td>Spain</td>\n",
       "    </tr>\n",
       "    <tr>\n",
       "      <th>3</th>\n",
       "      <td>290051</td>\n",
       "      <td>2015-12-03</td>\n",
       "      <td>Ads</td>\n",
       "      <td>Mobile</td>\n",
       "      <td>Other</td>\n",
       "      <td>Facebook</td>\n",
       "      <td>Android_App</td>\n",
       "      <td>0</td>\n",
       "      <td>1</td>\n",
       "      <td>F</td>\n",
       "      <td>22.0</td>\n",
       "      <td>Mexico</td>\n",
       "    </tr>\n",
       "    <tr>\n",
       "      <th>4</th>\n",
       "      <td>548435</td>\n",
       "      <td>2015-11-30</td>\n",
       "      <td>Ads</td>\n",
       "      <td>Web</td>\n",
       "      <td>ES</td>\n",
       "      <td>Google</td>\n",
       "      <td>FireFox</td>\n",
       "      <td>0</td>\n",
       "      <td>1</td>\n",
       "      <td>M</td>\n",
       "      <td>19.0</td>\n",
       "      <td>Mexico</td>\n",
       "    </tr>\n",
       "  </tbody>\n",
       "</table>\n",
       "</div>"
      ],
      "text/plain": [
       "   user_id        date  source  device browser_language ads_channel  \\\n",
       "0   315281  2015-12-03  Direct     Web               ES         NaN   \n",
       "1   497851  2015-12-04     Ads     Web               ES      Google   \n",
       "2   848402  2015-12-04     Ads     Web               ES    Facebook   \n",
       "3   290051  2015-12-03     Ads  Mobile            Other    Facebook   \n",
       "4   548435  2015-11-30     Ads     Web               ES      Google   \n",
       "\n",
       "       browser  conversion  test sex   age country  \n",
       "0           IE           1     0   M  32.0   Spain  \n",
       "1           IE           0     1   M  21.0  Mexico  \n",
       "2       Chrome           0     0   M  34.0   Spain  \n",
       "3  Android_App           0     1   F  22.0  Mexico  \n",
       "4      FireFox           0     1   M  19.0  Mexico  "
      ]
     },
     "execution_count": 70,
     "metadata": {},
     "output_type": "execute_result"
    }
   ],
   "source": [
    "total_df.head()"
   ]
  },
  {
   "cell_type": "code",
   "execution_count": 39,
   "metadata": {},
   "outputs": [
    {
     "data": {
      "text/html": [
       "<div>\n",
       "<table border=\"1\" class=\"dataframe\">\n",
       "  <thead>\n",
       "    <tr style=\"text-align: right;\">\n",
       "      <th></th>\n",
       "      <th>user_id</th>\n",
       "      <th>date</th>\n",
       "      <th>source</th>\n",
       "      <th>device</th>\n",
       "      <th>browser_language</th>\n",
       "      <th>ads_channel</th>\n",
       "      <th>browser</th>\n",
       "      <th>conversion</th>\n",
       "      <th>test</th>\n",
       "    </tr>\n",
       "  </thead>\n",
       "  <tbody>\n",
       "    <tr>\n",
       "      <th>0</th>\n",
       "      <td>315281</td>\n",
       "      <td>2015-12-03</td>\n",
       "      <td>Direct</td>\n",
       "      <td>Web</td>\n",
       "      <td>ES</td>\n",
       "      <td>NaN</td>\n",
       "      <td>IE</td>\n",
       "      <td>1</td>\n",
       "      <td>0</td>\n",
       "    </tr>\n",
       "    <tr>\n",
       "      <th>1</th>\n",
       "      <td>497851</td>\n",
       "      <td>2015-12-04</td>\n",
       "      <td>Ads</td>\n",
       "      <td>Web</td>\n",
       "      <td>ES</td>\n",
       "      <td>Google</td>\n",
       "      <td>IE</td>\n",
       "      <td>0</td>\n",
       "      <td>1</td>\n",
       "    </tr>\n",
       "    <tr>\n",
       "      <th>2</th>\n",
       "      <td>848402</td>\n",
       "      <td>2015-12-04</td>\n",
       "      <td>Ads</td>\n",
       "      <td>Web</td>\n",
       "      <td>ES</td>\n",
       "      <td>Facebook</td>\n",
       "      <td>Chrome</td>\n",
       "      <td>0</td>\n",
       "      <td>0</td>\n",
       "    </tr>\n",
       "    <tr>\n",
       "      <th>3</th>\n",
       "      <td>290051</td>\n",
       "      <td>2015-12-03</td>\n",
       "      <td>Ads</td>\n",
       "      <td>Mobile</td>\n",
       "      <td>Other</td>\n",
       "      <td>Facebook</td>\n",
       "      <td>Android_App</td>\n",
       "      <td>0</td>\n",
       "      <td>1</td>\n",
       "    </tr>\n",
       "    <tr>\n",
       "      <th>4</th>\n",
       "      <td>548435</td>\n",
       "      <td>2015-11-30</td>\n",
       "      <td>Ads</td>\n",
       "      <td>Web</td>\n",
       "      <td>ES</td>\n",
       "      <td>Google</td>\n",
       "      <td>FireFox</td>\n",
       "      <td>0</td>\n",
       "      <td>1</td>\n",
       "    </tr>\n",
       "  </tbody>\n",
       "</table>\n",
       "</div>"
      ],
      "text/plain": [
       "   user_id        date  source  device browser_language ads_channel  \\\n",
       "0   315281  2015-12-03  Direct     Web               ES         NaN   \n",
       "1   497851  2015-12-04     Ads     Web               ES      Google   \n",
       "2   848402  2015-12-04     Ads     Web               ES    Facebook   \n",
       "3   290051  2015-12-03     Ads  Mobile            Other    Facebook   \n",
       "4   548435  2015-11-30     Ads     Web               ES      Google   \n",
       "\n",
       "       browser  conversion  test  \n",
       "0           IE           1     0  \n",
       "1           IE           0     1  \n",
       "2       Chrome           0     0  \n",
       "3  Android_App           0     1  \n",
       "4      FireFox           0     1  "
      ]
     },
     "execution_count": 39,
     "metadata": {},
     "output_type": "execute_result"
    }
   ],
   "source": [
    "full_df.head()"
   ]
  },
  {
   "cell_type": "code",
   "execution_count": 40,
   "metadata": {},
   "outputs": [
    {
     "data": {
      "text/html": [
       "<div>\n",
       "<table border=\"1\" class=\"dataframe\">\n",
       "  <thead>\n",
       "    <tr style=\"text-align: right;\">\n",
       "      <th></th>\n",
       "      <th>user_id</th>\n",
       "      <th>sex</th>\n",
       "      <th>age</th>\n",
       "      <th>country</th>\n",
       "    </tr>\n",
       "  </thead>\n",
       "  <tbody>\n",
       "    <tr>\n",
       "      <th>0</th>\n",
       "      <td>765821</td>\n",
       "      <td>M</td>\n",
       "      <td>20</td>\n",
       "      <td>Mexico</td>\n",
       "    </tr>\n",
       "    <tr>\n",
       "      <th>1</th>\n",
       "      <td>343561</td>\n",
       "      <td>F</td>\n",
       "      <td>27</td>\n",
       "      <td>Nicaragua</td>\n",
       "    </tr>\n",
       "    <tr>\n",
       "      <th>2</th>\n",
       "      <td>118744</td>\n",
       "      <td>M</td>\n",
       "      <td>23</td>\n",
       "      <td>Colombia</td>\n",
       "    </tr>\n",
       "    <tr>\n",
       "      <th>3</th>\n",
       "      <td>987753</td>\n",
       "      <td>F</td>\n",
       "      <td>27</td>\n",
       "      <td>Venezuela</td>\n",
       "    </tr>\n",
       "    <tr>\n",
       "      <th>4</th>\n",
       "      <td>554597</td>\n",
       "      <td>F</td>\n",
       "      <td>20</td>\n",
       "      <td>Spain</td>\n",
       "    </tr>\n",
       "  </tbody>\n",
       "</table>\n",
       "</div>"
      ],
      "text/plain": [
       "   user_id sex  age    country\n",
       "0   765821   M   20     Mexico\n",
       "1   343561   F   27  Nicaragua\n",
       "2   118744   M   23   Colombia\n",
       "3   987753   F   27  Venezuela\n",
       "4   554597   F   20      Spain"
      ]
     },
     "execution_count": 40,
     "metadata": {},
     "output_type": "execute_result"
    }
   ],
   "source": [
    "user_df.head()"
   ]
  },
  {
   "cell_type": "markdown",
   "metadata": {},
   "source": [
    "These next few cells are testing integrity of the data"
   ]
  },
  {
   "cell_type": "code",
   "execution_count": 77,
   "metadata": {},
   "outputs": [
    {
     "name": "stdout",
     "output_type": "stream",
     "text": [
      "453321 452867 452867\n",
      "453321 453321\n"
     ]
    }
   ],
   "source": [
    "print len(full_df), len(user_df), len(total_df)\n",
    "print len(full_df), len(full_df['user_id'].unique())"
   ]
  },
  {
   "cell_type": "code",
   "execution_count": 19,
   "metadata": {},
   "outputs": [
    {
     "data": {
      "text/plain": [
       "0"
      ]
     },
     "execution_count": 19,
     "metadata": {},
     "output_type": "execute_result"
    }
   ],
   "source": [
    "sum(full_df['conversion'].isnull())"
   ]
  },
  {
   "cell_type": "code",
   "execution_count": 25,
   "metadata": {},
   "outputs": [
    {
     "data": {
      "text/plain": [
       "array(['ES', 'Other', 'EN'], dtype=object)"
      ]
     },
     "execution_count": 25,
     "metadata": {},
     "output_type": "execute_result"
    }
   ],
   "source": [
    "full_df['browser_language'].unique()"
   ]
  },
  {
   "cell_type": "markdown",
   "metadata": {},
   "source": [
    "Splitting the data into control and test dataframes, and those into successes and failures"
   ]
  },
  {
   "cell_type": "code",
   "execution_count": 85,
   "metadata": {},
   "outputs": [
    {
     "name": "stdout",
     "output_type": "stream",
     "text": [
      "237338 215983\n"
     ]
    }
   ],
   "source": [
    "control_df = full_df[full_df['test']==0]\n",
    "test_df = full_df[full_df['test']==1]\n",
    "print len(control_df), len(test_df)"
   ]
  },
  {
   "cell_type": "code",
   "execution_count": 105,
   "metadata": {},
   "outputs": [
    {
     "name": "stdout",
     "output_type": "stream",
     "text": [
      "5.84011915698\n",
      "4.53960233103\n",
      "control successes : 13096 control failures : 224242\n",
      "test successes : 9379 test failures : 206604\n"
     ]
    }
   ],
   "source": [
    "control_successes = control_df[control_df['conversion']==1]\n",
    "control_failures = control_df[control_df['conversion']==0]\n",
    "test_successes = test_df[test_df['conversion']==1]\n",
    "test_failures = test_df[test_df['conversion']==0]\n",
    "\n",
    "print float(len(control_successes))/len(control_failures)*100\n",
    "print float(len(test_successes))/len(test_failures)*100\n",
    "print 'control successes : {}'.format(len(control_successes)), 'control failures : {}'.format(len(control_failures))\n",
    "print 'test successes : {}'.format(len(test_successes)), 'test failures : {}'.format(len(test_failures))\n"
   ]
  },
  {
   "cell_type": "markdown",
   "metadata": {},
   "source": [
    "Some more EDA on the control and test groups"
   ]
  },
  {
   "cell_type": "code",
   "execution_count": 46,
   "metadata": {},
   "outputs": [
    {
     "name": "stdout",
     "output_type": "stream",
     "text": [
      "2015-11-30 2015-12-04\n",
      "2015-11-30 2015-12-04\n"
     ]
    }
   ],
   "source": [
    "print test_df['date'].min(), test_df['date'].max()\n",
    "print control_df['date'].min(), control_df['date'].max()"
   ]
  },
  {
   "cell_type": "code",
   "execution_count": 47,
   "metadata": {
    "scrolled": true
   },
   "outputs": [
    {
     "name": "stdout",
     "output_type": "stream",
     "text": [
      "device\n",
      "Mobile    5870\n",
      "Web       7226\n",
      "Name: conversion, dtype: int64 device\n",
      "Mobile    105400\n",
      "Web       131938\n",
      "Name: conversion, dtype: int64\n",
      "device\n",
      "Mobile    4240\n",
      "Web       5139\n",
      "Name: conversion, dtype: int64 device\n",
      "Mobile     96356\n",
      "Web       119627\n",
      "Name: conversion, dtype: int64\n"
     ]
    }
   ],
   "source": [
    "# no significant anomlies in these columns: source, ads channel, browser, \n",
    "# the language could make a bit of a difference, less spanish in control group, not a huge difference\n",
    "print control_df.groupby('device').sum()['conversion'], control_df.groupby('device').count()['conversion']\n",
    "print test_df.groupby('device').sum()['conversion'], test_df.groupby('device').count()['conversion']"
   ]
  },
  {
   "cell_type": "code",
   "execution_count": 87,
   "metadata": {
    "collapsed": true
   },
   "outputs": [],
   "source": [
    "control_df2 = total_df[total_df['test']==0]\n",
    "test_df2 = total_df[total_df['test']==1]\n",
    "control_successes2 = control_df[control_df['conversion']==1]\n",
    "control_failures2 = control_df[control_df['conversion']==0]\n",
    "test_successes2 = test_df[test_df['conversion']==1]\n",
    "test_failures2 = test_df[test_df['conversion']==0]"
   ]
  },
  {
   "cell_type": "code",
   "execution_count": 88,
   "metadata": {},
   "outputs": [
    {
     "name": "stdout",
     "output_type": "stream",
     "text": [
      "country\n",
      "Argentina       141\n",
      "Bolivia         274\n",
      "Chile           474\n",
      "Colombia       1411\n",
      "Costa Rica      139\n",
      "Ecuador         395\n",
      "El Salvador     220\n",
      "Guatemala       386\n",
      "Honduras        222\n",
      "Mexico         3178\n",
      "Nicaragua       180\n",
      "Panama           92\n",
      "Paraguay        177\n",
      "Peru            842\n",
      "Spain          4128\n",
      "Uruguay           5\n",
      "Venezuela       813\n",
      "Name: conversion, dtype: int64 country\n",
      "Argentina       9356\n",
      "Bolivia         5550\n",
      "Chile           9853\n",
      "Colombia       27088\n",
      "Costa Rica      2660\n",
      "Ecuador         8036\n",
      "El Salvador     4108\n",
      "Guatemala       7622\n",
      "Honduras        4361\n",
      "Mexico         64209\n",
      "Nicaragua       3419\n",
      "Panama          1966\n",
      "Paraguay        3650\n",
      "Peru           16869\n",
      "Spain          51782\n",
      "Uruguay          415\n",
      "Venezuela      16149\n",
      "Name: conversion, dtype: int64\n",
      "country\n",
      "Argentina       513\n",
      "Bolivia         267\n",
      "Chile           507\n",
      "Colombia       1364\n",
      "Costa Rica      145\n",
      "Ecuador         385\n",
      "El Salvador     195\n",
      "Guatemala       365\n",
      "Honduras        200\n",
      "Mexico         3290\n",
      "Nicaragua       179\n",
      "Panama           98\n",
      "Paraguay        182\n",
      "Peru            850\n",
      "Uruguay          48\n",
      "Venezuela       779\n",
      "Name: conversion, dtype: int64 country\n",
      "Argentina      37377\n",
      "Bolivia         5574\n",
      "Chile           9884\n",
      "Colombia       26972\n",
      "Costa Rica      2649\n",
      "Ecuador         7859\n",
      "El Salvador     4067\n",
      "Guatemala       7503\n",
      "Honduras        4207\n",
      "Mexico         64275\n",
      "Nicaragua       3304\n",
      "Panama          1985\n",
      "Paraguay        3697\n",
      "Peru           16797\n",
      "Uruguay         3719\n",
      "Venezuela      15905\n",
      "Name: conversion, dtype: int64\n"
     ]
    }
   ],
   "source": [
    "print control_df2.groupby('country').sum()['conversion'], control_df2.groupby('country').count()['conversion']\n",
    "print test_df2.groupby('country').sum()['conversion'], test_df2.groupby('country').count()['conversion']"
   ]
  },
  {
   "cell_type": "code",
   "execution_count": 106,
   "metadata": {},
   "outputs": [
    {
     "name": "stdout",
     "output_type": "stream",
     "text": [
      "control Mexico 4.94946191344\n",
      "test Mexico 5.11863088292\n",
      "control Venezuela 5.03436745309\n",
      "test Venezuela 4.8978308708\n",
      "control Bolivia 4.93693693694\n",
      "test Bolivia 4.79009687836\n",
      "control Uruguay 1.20481927711\n",
      "test Uruguay 1.29066953482\n",
      "control Nicaragua 5.26469727991\n",
      "test Nicaragua 5.41767554479\n",
      "control Costa Rica 5.22556390977\n",
      "test Costa Rica 5.47376368441\n",
      "control Colombia 5.20894861193\n",
      "test Colombia 5.05709624796\n",
      "control Peru 4.99140435118\n",
      "test Peru 5.06042745728\n",
      "control Chile 4.81071754795\n",
      "test Chile 5.12950222582\n",
      "control Argentina 1.50705429671\n",
      "test Argentina 1.37250180592\n",
      "control Ecuador 4.91538078646\n",
      "test Ecuador 4.89884209187\n",
      "control El Salvador 5.35540408958\n",
      "test El Salvador 4.79468895992\n",
      "control Paraguay 4.84931506849\n",
      "test Paraguay 4.92291046795\n",
      "control Guatemala 5.06428758856\n",
      "test Guatemala 4.86472077836\n",
      "control Honduras 5.09057555607\n",
      "test Honduras 4.75398145947\n",
      "control Panama 4.67955239064\n",
      "test Panama 4.93702770781\n"
     ]
    }
   ],
   "source": [
    "control_successes = control_df2.groupby('country').sum()['conversion']\n",
    "control_total = control_df2.groupby('country').count()['conversion']\n",
    "test_successes = test_df2.groupby('country').sum()['conversion']\n",
    "test_total = test_df2.groupby('country').count()['conversion']\n",
    "for country in test_df2['country'].unique():\n",
    "    print 'control',country, float(control_successes.loc[country]) / control_total.loc[country]*100\n",
    "    print 'test',country, float(test_successes.loc[country]) / test_total.loc[country]*100"
   ]
  },
  {
   "cell_type": "code",
   "execution_count": 92,
   "metadata": {
    "collapsed": true
   },
   "outputs": [],
   "source": [
    "control_successes = control_df2.groupby('country').sum()"
   ]
  },
  {
   "cell_type": "code",
   "execution_count": 98,
   "metadata": {},
   "outputs": [
    {
     "data": {
      "text/plain": [
       "141"
      ]
     },
     "execution_count": 98,
     "metadata": {},
     "output_type": "execute_result"
    }
   ],
   "source": [
    "control_successes.loc['Argentina']['conversion']"
   ]
  },
  {
   "cell_type": "code",
   "execution_count": null,
   "metadata": {
    "collapsed": true
   },
   "outputs": [],
   "source": [
    "test_df2[test_df2['country']=='Spain']"
   ]
  }
 ],
 "metadata": {
  "kernelspec": {
   "display_name": "Python [conda root]",
   "language": "python",
   "name": "conda-root-py"
  },
  "language_info": {
   "codemirror_mode": {
    "name": "ipython",
    "version": 2
   },
   "file_extension": ".py",
   "mimetype": "text/x-python",
   "name": "python",
   "nbconvert_exporter": "python",
   "pygments_lexer": "ipython2",
   "version": "2.7.13"
  }
 },
 "nbformat": 4,
 "nbformat_minor": 2
}
